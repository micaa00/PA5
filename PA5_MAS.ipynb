{
 "cells": [
  {
   "cell_type": "code",
   "execution_count": 7,
   "id": "33a8614a",
   "metadata": {},
   "outputs": [
    {
     "ename": "KeyboardInterrupt",
     "evalue": "Interrupted by user",
     "output_type": "error",
     "traceback": [
      "\u001b[0;31m---------------------------------------------------------------------------\u001b[0m",
      "\u001b[0;31mKeyboardInterrupt\u001b[0m                         Traceback (most recent call last)",
      "\u001b[0;32m<ipython-input-7-f4ac9b8592af>\u001b[0m in \u001b[0;36m<module>\u001b[0;34m\u001b[0m\n\u001b[1;32m      1\u001b[0m \u001b[0mTranslator\u001b[0m\u001b[0;34m=\u001b[0m\u001b[0;34m{\u001b[0m\u001b[0;34m'one'\u001b[0m\u001b[0;34m:\u001b[0m\u001b[0;34m'uno'\u001b[0m\u001b[0;34m,\u001b[0m\u001b[0;34m'two'\u001b[0m\u001b[0;34m:\u001b[0m\u001b[0;34m'dos'\u001b[0m\u001b[0;34m,\u001b[0m\u001b[0;34m'three'\u001b[0m\u001b[0;34m:\u001b[0m\u001b[0;34m'tres'\u001b[0m\u001b[0;34m,\u001b[0m\u001b[0;34m'four'\u001b[0m\u001b[0;34m:\u001b[0m\u001b[0;34m'quatro'\u001b[0m\u001b[0;34m,\u001b[0m\u001b[0;34m'five'\u001b[0m\u001b[0;34m:\u001b[0m\u001b[0;34m'cinco'\u001b[0m\u001b[0;34m,\u001b[0m\u001b[0;34m'six'\u001b[0m\u001b[0;34m:\u001b[0m\u001b[0;34m'sies'\u001b[0m\u001b[0;34m,\u001b[0m\u001b[0;34m'seven'\u001b[0m\u001b[0;34m:\u001b[0m\u001b[0;34m'siete'\u001b[0m\u001b[0;34m,\u001b[0m\u001b[0;34m'eight'\u001b[0m\u001b[0;34m:\u001b[0m\u001b[0;34m'ocho'\u001b[0m\u001b[0;34m,\u001b[0m\u001b[0;34m'nine'\u001b[0m\u001b[0;34m:\u001b[0m\u001b[0;34m'nueve'\u001b[0m\u001b[0;34m,\u001b[0m\u001b[0;34m'ten'\u001b[0m\u001b[0;34m:\u001b[0m\u001b[0;34m'dies'\u001b[0m\u001b[0;34m,\u001b[0m\u001b[0;34m'eleven'\u001b[0m\u001b[0;34m:\u001b[0m\u001b[0;34m'once'\u001b[0m\u001b[0;34m,\u001b[0m\u001b[0;34m'twelve'\u001b[0m\u001b[0;34m:\u001b[0m\u001b[0;34m'doce'\u001b[0m\u001b[0;34m,\u001b[0m\u001b[0;34m'thirteen'\u001b[0m\u001b[0;34m:\u001b[0m\u001b[0;34m'trece'\u001b[0m\u001b[0;34m,\u001b[0m\u001b[0;34m'fourteen'\u001b[0m\u001b[0;34m:\u001b[0m\u001b[0;34m'catorce'\u001b[0m\u001b[0;34m,\u001b[0m\u001b[0;34m'fifteen'\u001b[0m\u001b[0;34m:\u001b[0m\u001b[0;34m'quince'\u001b[0m\u001b[0;34m,\u001b[0m\u001b[0;34m'sixteen'\u001b[0m\u001b[0;34m:\u001b[0m\u001b[0;34m'diecesies'\u001b[0m\u001b[0;34m,\u001b[0m\u001b[0;34m'seventeen'\u001b[0m\u001b[0;34m:\u001b[0m\u001b[0;34m'diecisiete'\u001b[0m\u001b[0;34m,\u001b[0m\u001b[0;34m'eighteen'\u001b[0m\u001b[0;34m:\u001b[0m\u001b[0;34m'dieciocho'\u001b[0m\u001b[0;34m,\u001b[0m\u001b[0;34m'nineteen'\u001b[0m\u001b[0;34m:\u001b[0m\u001b[0;34m'diesenueve'\u001b[0m\u001b[0;34m,\u001b[0m\u001b[0;34m'twenty'\u001b[0m\u001b[0;34m:\u001b[0m\u001b[0;34m'veinte'\u001b[0m\u001b[0;34m}\u001b[0m\u001b[0;34m\u001b[0m\u001b[0;34m\u001b[0m\u001b[0m\n\u001b[0;32m----> 2\u001b[0;31m \u001b[0mword\u001b[0m\u001b[0;34m=\u001b[0m\u001b[0minput\u001b[0m\u001b[0;34m(\u001b[0m\u001b[0;34m\"Input an english word one through twenty for spanish translation(enter 0 to stop): \"\u001b[0m\u001b[0;34m)\u001b[0m\u001b[0;34m\u001b[0m\u001b[0;34m\u001b[0m\u001b[0m\n\u001b[0m\u001b[1;32m      3\u001b[0m \u001b[0;32mwhile\u001b[0m \u001b[0;32mTrue\u001b[0m\u001b[0;34m:\u001b[0m\u001b[0;34m\u001b[0m\u001b[0;34m\u001b[0m\u001b[0m\n\u001b[1;32m      4\u001b[0m     \u001b[0;32mif\u001b[0m \u001b[0mword\u001b[0m\u001b[0;34m==\u001b[0m\u001b[0;34m'0'\u001b[0m\u001b[0;34m:\u001b[0m\u001b[0;34m\u001b[0m\u001b[0;34m\u001b[0m\u001b[0m\n\u001b[1;32m      5\u001b[0m         \u001b[0;32mbreak\u001b[0m\u001b[0;34m\u001b[0m\u001b[0;34m\u001b[0m\u001b[0m\n",
      "\u001b[0;32m~/opt/anaconda3/lib/python3.8/site-packages/ipykernel/kernelbase.py\u001b[0m in \u001b[0;36mraw_input\u001b[0;34m(self, prompt)\u001b[0m\n\u001b[1;32m    858\u001b[0m                 \u001b[0;34m\"raw_input was called, but this frontend does not support input requests.\"\u001b[0m\u001b[0;34m\u001b[0m\u001b[0;34m\u001b[0m\u001b[0m\n\u001b[1;32m    859\u001b[0m             )\n\u001b[0;32m--> 860\u001b[0;31m         return self._input_request(str(prompt),\n\u001b[0m\u001b[1;32m    861\u001b[0m             \u001b[0mself\u001b[0m\u001b[0;34m.\u001b[0m\u001b[0m_parent_ident\u001b[0m\u001b[0;34m,\u001b[0m\u001b[0;34m\u001b[0m\u001b[0;34m\u001b[0m\u001b[0m\n\u001b[1;32m    862\u001b[0m             \u001b[0mself\u001b[0m\u001b[0;34m.\u001b[0m\u001b[0m_parent_header\u001b[0m\u001b[0;34m,\u001b[0m\u001b[0;34m\u001b[0m\u001b[0;34m\u001b[0m\u001b[0m\n",
      "\u001b[0;32m~/opt/anaconda3/lib/python3.8/site-packages/ipykernel/kernelbase.py\u001b[0m in \u001b[0;36m_input_request\u001b[0;34m(self, prompt, ident, parent, password)\u001b[0m\n\u001b[1;32m    902\u001b[0m             \u001b[0;32mexcept\u001b[0m \u001b[0mKeyboardInterrupt\u001b[0m\u001b[0;34m:\u001b[0m\u001b[0;34m\u001b[0m\u001b[0;34m\u001b[0m\u001b[0m\n\u001b[1;32m    903\u001b[0m                 \u001b[0;31m# re-raise KeyboardInterrupt, to truncate traceback\u001b[0m\u001b[0;34m\u001b[0m\u001b[0;34m\u001b[0m\u001b[0;34m\u001b[0m\u001b[0m\n\u001b[0;32m--> 904\u001b[0;31m                 \u001b[0;32mraise\u001b[0m \u001b[0mKeyboardInterrupt\u001b[0m\u001b[0;34m(\u001b[0m\u001b[0;34m\"Interrupted by user\"\u001b[0m\u001b[0;34m)\u001b[0m \u001b[0;32mfrom\u001b[0m \u001b[0;32mNone\u001b[0m\u001b[0;34m\u001b[0m\u001b[0;34m\u001b[0m\u001b[0m\n\u001b[0m\u001b[1;32m    905\u001b[0m             \u001b[0;32mexcept\u001b[0m \u001b[0mException\u001b[0m \u001b[0;32mas\u001b[0m \u001b[0me\u001b[0m\u001b[0;34m:\u001b[0m\u001b[0;34m\u001b[0m\u001b[0;34m\u001b[0m\u001b[0m\n\u001b[1;32m    906\u001b[0m                 \u001b[0mself\u001b[0m\u001b[0;34m.\u001b[0m\u001b[0mlog\u001b[0m\u001b[0;34m.\u001b[0m\u001b[0mwarning\u001b[0m\u001b[0;34m(\u001b[0m\u001b[0;34m\"Invalid Message:\"\u001b[0m\u001b[0;34m,\u001b[0m \u001b[0mexc_info\u001b[0m\u001b[0;34m=\u001b[0m\u001b[0;32mTrue\u001b[0m\u001b[0;34m)\u001b[0m\u001b[0;34m\u001b[0m\u001b[0;34m\u001b[0m\u001b[0m\n",
      "\u001b[0;31mKeyboardInterrupt\u001b[0m: Interrupted by user"
     ]
    }
   ],
   "source": [
    "Translator={'one':'uno','two':'dos','three':'tres','four':'quatro','five':'cinco','six':'sies','seven':'siete','eight':'ocho','nine':'nueve','ten':'dies','eleven':'once','twelve':'doce','thirteen':'trece','fourteen':'catorce','fifteen':'quince','sixteen':'diecesies','seventeen':'diecisiete','eighteen':'dieciocho','nineteen':'diesenueve','twenty':'veinte'}\n",
    "word=input(\"Input an english word one through twenty for spanish translation(enter 0 to stop): \")\n",
    "while True: \n",
    "    if word=='0':\n",
    "        break\n",
    "    else:\n",
    "        print(Translator[word])\n",
    "        word=input(\"Give an english word one through twenty for a spanish translation (enter 0 to stop): \")"
   ]
  },
  {
   "cell_type": "code",
   "execution_count": null,
   "id": "e88b0b59",
   "metadata": {},
   "outputs": [],
   "source": [
    "SepTemp={1:82,2:83,3:84,4:83,5:82,6:84,7:85,8:85,9:81,10:82,11:84,12:87,13:89, 14:90,15:86,16:89,17:88,18:85,19:86,20:78,21:78,22:70,23:71,24:75,25:77,26:77,27:85,28:87,29:91,30:86}\n",
    "x=list(SepTemp.values())\n",
    "y=list(SepTemp.keys())\n",
    "import numpy as np\n",
    "feh =np.array(x)\n",
    "cel=(5*feh/9-32)\n",
    "SepTemp=dict(zip(y,cel))\n",
    "\n",
    "coolest = min(SepTemp.values())\n",
    "for key in SepTemp:\n",
    "        if SepTemp[key]==coolest:\n",
    "            print(\"The coolest day was on September \", key)\n",
    "max2 = (list(sorted(SepTemp.values()))[-2])\n",
    "for key in SepTemp:\n",
    "    if SepTemp[key]==max2:\n",
    "        print(\"The second hottest day was on September \",key)\n",
    "SepTemp        "
   ]
  },
  {
   "cell_type": "code",
   "execution_count": 5,
   "id": "11515142",
   "metadata": {},
   "outputs": [
    {
     "name": "stdout",
     "output_type": "stream",
     "text": [
      "{'b', 'a', 'e'}\n"
     ]
    }
   ],
   "source": [
    "\n",
    "A = {'a','b','c','d'}\n",
    "B = {'c','d','e'}\n",
    "print(A^B)"
   ]
  },
  {
   "cell_type": "code",
   "execution_count": 7,
   "id": "f3e54f4c",
   "metadata": {},
   "outputs": [
    {
     "data": {
      "text/plain": [
       "True"
      ]
     },
     "execution_count": 7,
     "metadata": {},
     "output_type": "execute_result"
    }
   ],
   "source": [
    "set1 = {2,4,3,5}\n",
    "set2 = {6,7,8}\n",
    "set1.isdisjoint(set2)"
   ]
  },
  {
   "cell_type": "code",
   "execution_count": 12,
   "id": "759845d4",
   "metadata": {},
   "outputs": [
    {
     "name": "stdout",
     "output_type": "stream",
     "text": [
      "set()\n"
     ]
    }
   ],
   "source": [
    "set1 = {2,4,3,5}\n",
    "set2 = {6,7,8}\n",
    "set1&=set2\n",
    "print(set1)"
   ]
  },
  {
   "cell_type": "code",
   "execution_count": 9,
   "id": "80254757",
   "metadata": {},
   "outputs": [
    {
     "name": "stdout",
     "output_type": "stream",
     "text": [
      "{'a', 'e', 'b'}\n"
     ]
    }
   ],
   "source": [
    "A = {'a','b','c','d'}\n",
    "B = {'c','d','e'}\n",
    "A^=B\n",
    "print(A)"
   ]
  },
  {
   "cell_type": "code",
   "execution_count": 14,
   "id": "6d31b97b",
   "metadata": {},
   "outputs": [
    {
     "ename": "AttributeError",
     "evalue": "'tuple' object has no attribute 'remove'",
     "output_type": "error",
     "traceback": [
      "\u001b[0;31m---------------------------------------------------------------------------\u001b[0m",
      "\u001b[0;31mAttributeError\u001b[0m                            Traceback (most recent call last)",
      "\u001b[0;32m<ipython-input-14-5ceb3ebd04f9>\u001b[0m in \u001b[0;36m<module>\u001b[0;34m\u001b[0m\n\u001b[1;32m      1\u001b[0m \u001b[0meven_numbers\u001b[0m\u001b[0;34m=\u001b[0m\u001b[0;34m(\u001b[0m\u001b[0;36m2\u001b[0m\u001b[0;34m,\u001b[0m\u001b[0;36m4\u001b[0m\u001b[0;34m,\u001b[0m\u001b[0;36m6\u001b[0m\u001b[0;34m,\u001b[0m\u001b[0;36m8\u001b[0m\u001b[0;34m,\u001b[0m\u001b[0;36m10\u001b[0m\u001b[0;34m)\u001b[0m\u001b[0;34m\u001b[0m\u001b[0;34m\u001b[0m\u001b[0m\n\u001b[0;32m----> 2\u001b[0;31m \u001b[0meven_numbers\u001b[0m\u001b[0;34m.\u001b[0m\u001b[0mremove\u001b[0m\u001b[0;34m(\u001b[0m\u001b[0;34m\"8\"\u001b[0m\u001b[0;34m)\u001b[0m\u001b[0;34m\u001b[0m\u001b[0;34m\u001b[0m\u001b[0m\n\u001b[0m\u001b[1;32m      3\u001b[0m \u001b[0mprint\u001b[0m\u001b[0;34m(\u001b[0m\u001b[0;34m'Updated List: '\u001b[0m\u001b[0;34m,\u001b[0m \u001b[0meven_numbers\u001b[0m\u001b[0;34m)\u001b[0m\u001b[0;34m\u001b[0m\u001b[0;34m\u001b[0m\u001b[0m\n",
      "\u001b[0;31mAttributeError\u001b[0m: 'tuple' object has no attribute 'remove'"
     ]
    }
   ],
   "source": [
    "even_numbers=(2,4,6,8,10)\n",
    "even_numbers.remove(\"8\")\n",
    "print('Updated List: ', even_numbers)"
   ]
  },
  {
   "cell_type": "code",
   "execution_count": 15,
   "id": "1ba4c82e",
   "metadata": {},
   "outputs": [
    {
     "name": "stdout",
     "output_type": "stream",
     "text": [
      "('w', 3, 'r', 's', 'o', 'u', 'r', 'c', 'e')\n",
      "('w', 3, 's', 'o', 'u', 'r', 'c', 'e')\n",
      "('w', 3, 's', 'o', 'u', 'r', 'e')\n"
     ]
    }
   ],
   "source": [
    "tuplex = \"w\", 3, \"r\", \"s\", \"o\", \"u\", \"r\", \"c\", \"e\"\n",
    "print(tuplex)\n",
    "tuplex = tuplex[:2] + tuplex[3:]\n",
    "print(tuplex)\n",
    "listx = list(tuplex) \n",
    "listx.remove(\"c\") \n",
    "tuplex = tuple(listx)\n",
    "print(tuplex)"
   ]
  },
  {
   "cell_type": "code",
   "execution_count": null,
   "id": "094dcef2",
   "metadata": {},
   "outputs": [],
   "source": []
  }
 ],
 "metadata": {
  "kernelspec": {
   "display_name": "Python 3",
   "language": "python",
   "name": "python3"
  },
  "language_info": {
   "codemirror_mode": {
    "name": "ipython",
    "version": 3
   },
   "file_extension": ".py",
   "mimetype": "text/x-python",
   "name": "python",
   "nbconvert_exporter": "python",
   "pygments_lexer": "ipython3",
   "version": "3.8.8"
  }
 },
 "nbformat": 4,
 "nbformat_minor": 5
}
